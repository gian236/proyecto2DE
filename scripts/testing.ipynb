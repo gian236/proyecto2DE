{
 "cells": [
  {
   "cell_type": "markdown",
   "id": "b7ad6516",
   "metadata": {},
   "source": [
    "# Proyecto Data Engineering – Consultas Analíticas \n",
    "\n",
    "Autor: Gian Paolo Robelo, Juan Diego Letona, Andrea Soto\n",
    "Base: Lakehouse DuckDB  \n",
    "Ruta: `data/lakehouse.duckdb`  \n",
    "\n",
    "---\n",
    "\n",
    "## Aggregated Gold\n",
    "\n",
    "### 1. Top 10 artículos más populares en (idioma) para el año (año)\n",
    "```sql\n",
    "SELECT rn, curr_title, clicks_year\n",
    "FROM gs_top10_by_year\n",
    "WHERE lang = 'es' AND year = 2024\n",
    "ORDER BY rn;\n",
    "```\n",
    "\n",
    "#### **Tiempo de Ejecución**: 0.659 segundos\n",
    "#### **Explicación**: Muestra los 10 artículos con más clics en un idioma y año específicos. La partición lang/year/month es clave aquí porque el filtro lang='es' AND year=2024 permite que DuckDB solo lea los Parquet de esa combinación, evitando escanear todo el dataset\n",
    "\n"
   ]
  },
  {
   "cell_type": "markdown",
   "id": "900f37ce",
   "metadata": {},
   "source": [
    "### 1.1 Top 10 artículos más populares en español para los años (años)\n",
    "```sql\n",
    "SELECT year, rn, curr_title, clicks_year\n",
    "FROM gs_top10_by_year\n",
    "WHERE lang = 'es'\n",
    "  AND year IN (2024, 2025)\n",
    "ORDER BY year, rn;\n",
    "```\n",
    "\n",
    "#### **Tiempo de Ejecución**: 0.824 segundos\n",
    "#### **Explicación**: Compara los rankings de distintos años en el mismo idioma. Gracias a la partición, DuckDB solo accede a las carpetas lang=es/year=2024 y lang=es/year=2025, acelerando el análisis multianual.\n"
   ]
  },
  {
   "cell_type": "markdown",
   "id": "cdaa3c86",
   "metadata": {},
   "source": [
    "### 2. Top 10 artículos con más clics de todos los tiempos en español\n",
    "```sql\n",
    "SELECT curr_title AS title, clicks_all_time AS clicks\n",
    "FROM gs_all_time_top\n",
    "WHERE lang = 'es'\n",
    "ORDER BY clicks_all_time DESC\n",
    "LIMIT 10;\n",
    "```\n",
    "#### **Tiempo de Ejecución**: 1.517 segundos\n",
    "#### **Explicación**: Consulta agregada que calcula los artículos más visitados históricamente. El uso de lang en la partición evita escanear todos los idiomas, reduciendo la lectura solo a los Parquet del español."
   ]
  },
  {
   "cell_type": "markdown",
   "id": "e48df5f8",
   "metadata": {},
   "source": [
    "### 3. Comparar el top 10 de artículos más populares entre idiomas (idiomas) para el año (año)\n",
    "```sql\n",
    "SELECT lang, rn, curr_title, clicks_year\n",
    "FROM gs_top10_by_year\n",
    "WHERE year = 2024\n",
    "  AND lang IN ('es','en','pt')\n",
    "ORDER BY lang, rn;\n",
    "```\n",
    "#### **Tiempo de Ejecución**: 0.489 segundos\n",
    "#### **Explicación**: Compara tendencias entre idiomas. La partición permite que DuckDB busque solo los directorios de esos idiomas, evitando I/O innecesario de otros"
   ]
  },
  {
   "cell_type": "markdown",
   "id": "3c7558b5",
   "metadata": {},
   "source": [
    "### 4. Artículos nuevos en el top 10 (año actual vs anterior)\n",
    "```sql\n",
    "WITH y_cur AS (\n",
    "  SELECT curr_title FROM gs_top10_by_year WHERE lang = 'es' AND year = 2020\n",
    "),\n",
    "y_prev AS (\n",
    "  SELECT curr_title FROM gs_top10_by_year WHERE lang = 'es' AND year = 2019\n",
    ")\n",
    "SELECT c.curr_title AS new_in_top10_2024\n",
    "FROM y_cur c\n",
    "LEFT JOIN y_prev p ON p.curr_title = c.curr_title\n",
    "WHERE p.curr_title IS NULL\n",
    "ORDER BY 1;\n",
    "```\n",
    "#### **Tiempo de Ejecución**: 0.916 segundos\n",
    "#### **Explicación**: Detecta nuevos artículos en el top 10 comparando dos años consecutivos. Solo se leen las carpetas de year=2020 y year=2019, lo que minimiza el escaneo de datos históricos."
   ]
  },
  {
   "cell_type": "markdown",
   "id": "1ff6b5ee",
   "metadata": {},
   "source": [
    "### 5. Artículos con mayor crecimiento mensual en español\n",
    "```sql\n",
    "WITH lastp AS (\n",
    "  SELECT MAX(make_date(year, month, 1)) AS p\n",
    "  FROM gs_trending_mom\n",
    "  WHERE lang = 'es'\n",
    ")\n",
    "SELECT year, month, curr_title, clicks_prev, clicks_now, abs_delta, pct_delta\n",
    "FROM gs_trending_mom\n",
    "WHERE lang = 'es'\n",
    "  AND make_date(year, month, 1) = (SELECT p FROM lastp)\n",
    "ORDER BY pct_delta DESC NULLS LAST, abs_delta DESC\n",
    "LIMIT 20;\n",
    "```\n",
    "#### **Tiempo de Ejecución**: 4.930 segundos\n",
    "#### **Explicación**: Encuentra los artículos con mayor incremento de clics entre meses. La estructura lang/year/month facilita localizar rápidamente el último mes disponible sin leer todo el histórico"
   ]
  },
  {
   "cell_type": "markdown",
   "id": "42966f05",
   "metadata": {},
   "source": [
    "### 6. Artículos que más años han estado en el top 10 (idioma)\n",
    "```sql\n",
    "SELECT curr_title, COUNT(*) AS years_in_top10\n",
    "FROM gs_top10_by_year\n",
    "WHERE lang = 'en'\n",
    "GROUP BY curr_title\n",
    "ORDER BY years_in_top10 DESC, curr_title\n",
    "LIMIT 20;\n",
    "```\n",
    "#### **Tiempo de Ejecución**: 0.613 segundos\n",
    "#### **Explicación**: Cuenta los años que cada artículo ha sido parte del top 10. La partición por lang reduce la búsqueda a un idioma, lo cual optimiza el conteo y agrupación por año"
   ]
  },
  {
   "cell_type": "markdown",
   "id": "eab8d3f5",
   "metadata": {},
   "source": [
    "### 7. Artículos populares en ambos idiomas (español e inglés)\n",
    "```sql\n",
    "WITH es AS (SELECT curr_title, clicks_year FROM gs_top10_by_year WHERE lang='es' AND year=2024),\n",
    "     en AS (SELECT curr_title, clicks_year FROM gs_top10_by_year WHERE lang='en' AND year=2024)\n",
    "SELECT es.curr_title, es.clicks_year AS clicks_es, en.clicks_year AS clicks_en\n",
    "FROM es JOIN en ON en.curr_title = es.curr_title\n",
    "ORDER BY clicks_es + clicks_en DESC\n",
    "LIMIT 20;\n",
    "```\n",
    "#### **Tiempo de Ejecución**: 0.781 segundos\n",
    "#### **Explicación**: Identifica artículos comunes entre idiomas. Cada subconsulta lee solo su partición (lang=es y lang=en), optimizando el JOIN entre idiomas."
   ]
  },
  {
   "cell_type": "markdown",
   "id": "5a853721",
   "metadata": {},
   "source": [
    "### 8. Artículo más popular por año (idioma)\n",
    "```sql\n",
    "SELECT year, curr_title, clicks_year\n",
    "FROM gs_top10_by_year\n",
    "WHERE lang = 'es' AND rn = 1\n",
    "ORDER BY year DESC;\n",
    "```\n",
    "#### **Tiempo de Ejecución**: 0.694 segundos\n",
    "#### **Explicación**: Obtiene el líder anual por idioma. Gracias al filtro lang='es', solo se consultan los directorios del español, sin necesidad de revisar todos los idiomas"
   ]
  },
  {
   "cell_type": "markdown",
   "id": "a62252d5",
   "metadata": {},
   "source": [
    "### 9. Artículos que salieron del top 10 y luego regresaron (idioma)\n",
    "```sql\n",
    "WITH t AS (\n",
    "  SELECT year, curr_title, rn\n",
    "  FROM gs_top10_by_year\n",
    "  WHERE lang='en' AND rn<=10\n",
    "),\n",
    "r AS (\n",
    "  SELECT curr_title, year,\n",
    "         LAG(year) OVER (PARTITION BY curr_title ORDER BY year) AS prev_year\n",
    "  FROM t\n",
    ")\n",
    "SELECT curr_title, prev_year AS last_seen_year, year AS comeback_year\n",
    "FROM r\n",
    "WHERE prev_year IS NOT NULL AND year - prev_year > 1\n",
    "ORDER BY comeback_year DESC, curr_title;\n",
    "```\n",
    "#### **Tiempo de Ejecución**: 0.755 segundos\n",
    "#### **Explicación**: Analiza la persistencia de artículos en el ranking. La segmentación por lang hace que DuckDB solo lea el historial del idioma seleccionado, mejorando rendimiento."
   ]
  },
  {
   "cell_type": "markdown",
   "id": "08405ca3",
   "metadata": {},
   "source": [
    "### 10. Margen de clics entre líder y subcampeón (idioma, año)\n",
    "```sql\n",
    "WITH params AS (SELECT 'es'::VARCHAR AS lang, 2024::INT AS year),\n",
    "t AS (\n",
    "  SELECT rn, curr_title, clicks_year\n",
    "  FROM gs_top10_by_year\n",
    "  WHERE lang=(SELECT lang FROM params) AND year=(SELECT year FROM params) AND rn<=2\n",
    ")\n",
    "SELECT\n",
    "  MAX(CASE WHEN rn=1 THEN curr_title END) AS leader,\n",
    "  MAX(CASE WHEN rn=1 THEN clicks_year END) AS leader_clicks,\n",
    "  MAX(CASE WHEN rn=2 THEN curr_title END) AS runner_up,\n",
    "  MAX(CASE WHEN rn=2 THEN clicks_year END) AS runner_up_clicks,\n",
    "  (MAX(CASE WHEN rn=1 THEN clicks_year END) - MAX(CASE WHEN rn=2 THEN clicks_year END)) AS margin\n",
    "FROM t;\n",
    "```\n",
    "#### **Tiempo de Ejecución**: 1.176 segundos\n",
    "#### **Explicación**: Evalúa la diferencia de clics entre los primeros puestos. La partición lang/year acota la lectura a un solo conjunto anual del idioma elegido."
   ]
  }
 ],
 "metadata": {
  "kernelspec": {
   "display_name": ".venv",
   "language": "python",
   "name": "python3"
  },
  "language_info": {
   "name": "python",
   "version": "3.12.10"
  }
 },
 "nbformat": 4,
 "nbformat_minor": 5
}
